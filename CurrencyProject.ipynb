{
 "cells": [
  {
   "cell_type": "markdown",
   "id": "4dcb6480",
   "metadata": {},
   "source": [
    "### Currency exchange\n",
    "Currency Exchange is one of the biggest financial markets. It is a licensed business that allows customers to exchange one currency for another. Currently, 1 United States dollar is equivalent to 82.64 Indian rupees. Many factors affect exchange rates such as economic, political and even psychological factors.\n",
    "\n",
    "### Currency Exchange Rate Prediction\n",
    "The chnage in Exchnage Rates happen on a daily basis and it affects the income of a person, business and the economy of the country. Thus, predicting the currency exchange rates can help an individual as well as the country in many ways.\n",
    "\n",
    "Here I will be predicting the exchange rate with Machine learning using Python.\n",
    "\n",
    "### Data Extraction\n",
    "The data that is used here has been taken from Yahoo Finance. Time period of the data: 1-11-2021 to 1-11-2022"
   ]
  },
  {
   "cell_type": "code",
   "execution_count": 2,
   "id": "d5e7a9cb",
   "metadata": {},
   "outputs": [],
   "source": [
    "# Importing the libraries\n",
    "import numpy as np\n",
    "import pandas as pd\n",
    "import matplotlib.pyplot as plt\n",
    "import seaborn as sns\n",
    "from seaborn import regression\n"
   ]
  },
  {
   "cell_type": "code",
   "execution_count": 3,
   "id": "b6115346",
   "metadata": {},
   "outputs": [
    {
     "name": "stdout",
     "output_type": "stream",
     "text": [
      "        Date       Open       High        Low      Close  Adj Close  Volume\n",
      "0 2021-11-01  74.928398  75.186302  74.810501  74.928299  74.928299       0\n",
      "1 2021-11-02  74.829903  74.909302  74.613297  74.829903  74.829903       0\n",
      "2 2021-11-03  74.712303  74.765503  74.407997  74.711998  74.711998       0\n",
      "3 2021-11-04  74.435501  74.554001  74.235001  74.435501  74.435501       0\n",
      "4 2021-11-05  74.478104  74.580498  74.050598  74.478104  74.478104       0\n"
     ]
    }
   ],
   "source": [
    "# reading the dataset \n",
    "\n",
    "sns.set()\n",
    "plt.style.use('seaborn-whitegrid')\n",
    "\n",
    "data = pd.read_excel(\"C:\\\\Users\\\\Hi\\\\Downloads\\\\INR.xlsx\")\n",
    "print(data.head())"
   ]
  },
  {
   "cell_type": "code",
   "execution_count": 4,
   "id": "2a3625fe",
   "metadata": {},
   "outputs": [
    {
     "data": {
      "text/plain": [
       "(262, 7)"
      ]
     },
     "execution_count": 4,
     "metadata": {},
     "output_type": "execute_result"
    }
   ],
   "source": [
    "#length of the data\n",
    "data.shape\n"
   ]
  },
  {
   "cell_type": "code",
   "execution_count": 5,
   "id": "6f1d6cc3",
   "metadata": {},
   "outputs": [
    {
     "name": "stdout",
     "output_type": "stream",
     "text": [
      "<class 'pandas.core.frame.DataFrame'>\n",
      "RangeIndex: 262 entries, 0 to 261\n",
      "Data columns (total 7 columns):\n",
      " #   Column     Non-Null Count  Dtype         \n",
      "---  ------     --------------  -----         \n",
      " 0   Date       262 non-null    datetime64[ns]\n",
      " 1   Open       262 non-null    float64       \n",
      " 2   High       262 non-null    float64       \n",
      " 3   Low        262 non-null    float64       \n",
      " 4   Close      262 non-null    float64       \n",
      " 5   Adj Close  262 non-null    float64       \n",
      " 6   Volume     262 non-null    int64         \n",
      "dtypes: datetime64[ns](1), float64(5), int64(1)\n",
      "memory usage: 14.5 KB\n"
     ]
    }
   ],
   "source": [
    "#checking non-null values \n",
    "data.info()\n"
   ]
  },
  {
   "cell_type": "code",
   "execution_count": 6,
   "id": "d8943f2b",
   "metadata": {},
   "outputs": [
    {
     "data": {
      "text/plain": [
       "0"
      ]
     },
     "execution_count": 6,
     "metadata": {},
     "output_type": "execute_result"
    }
   ],
   "source": [
    "#checking if columns have duplicate data\n",
    "data.duplicated().sum()\n"
   ]
  },
  {
   "cell_type": "markdown",
   "id": "ed8ad310",
   "metadata": {},
   "source": [
    "### Preparing the dataset by storing the most relevant features in the variable x and storing the target column in the variable y"
   ]
  },
  {
   "cell_type": "code",
   "execution_count": 7,
   "id": "898d4915",
   "metadata": {},
   "outputs": [],
   "source": [
    "x = data[[\"Open\", \"High\", \"Low\"]]\n",
    "y = data[\"Close\"]\n",
    "x = x.to_numpy()\n",
    "y = y.to_numpy()\n",
    "y = y.reshape(-1, 1)\n"
   ]
  },
  {
   "cell_type": "markdown",
   "id": "b4c5450d",
   "metadata": {},
   "source": [
    "### Taking a look at the correlation between the features before training the currency exchange rate prediction model\n"
   ]
  },
  {
   "cell_type": "code",
   "execution_count": 8,
   "id": "f093c569",
   "metadata": {},
   "outputs": [
    {
     "name": "stdout",
     "output_type": "stream",
     "text": [
      "               Open      High       Low     Close  Adj Close  Volume\n",
      "Open       1.000000  0.997521  0.997875  0.999901   0.999901     NaN\n",
      "High       0.997521  1.000000  0.997420  0.997531   0.997531     NaN\n",
      "Low        0.997875  0.997420  1.000000  0.997912   0.997912     NaN\n",
      "Close      0.999901  0.997531  0.997912  1.000000   1.000000     NaN\n",
      "Adj Close  0.999901  0.997531  0.997912  1.000000   1.000000     NaN\n",
      "Volume          NaN       NaN       NaN       NaN        NaN     NaN\n"
     ]
    },
    {
     "data": {
      "image/png": "[encoded data removed]",
      "text/plain": [
       "<Figure size 432x288 with 2 Axes>"
      ]
     },
     "metadata": {},
     "output_type": "display_data"
    }
   ],
   "source": [
    "print(data.corr())\n",
    "sns.heatmap(data.corr())\n",
    "plt.show()"
   ]
  },
  {
   "cell_type": "markdown",
   "id": "85e05d3b",
   "metadata": {},
   "source": [
    "### Splitting the data"
   ]
  },
  {
   "cell_type": "code",
   "execution_count": 9,
   "id": "b2f947aa",
   "metadata": {},
   "outputs": [],
   "source": [
    "from sklearn.model_selection import train_test_split\n",
    "\n",
    "xtrain, xtest, ytrain, ytest = train_test_split(x, y, test_size=0.2, random_state=42) \n",
    "\n"
   ]
  },
  {
   "cell_type": "code",
   "execution_count": 10,
   "id": "480226aa",
   "metadata": {},
   "outputs": [
    {
     "name": "stdout",
     "output_type": "stream",
     "text": [
      "209 53\n"
     ]
    }
   ],
   "source": [
    "print(len(xtrain),len(xtest))"
   ]
  },
  {
   "cell_type": "markdown",
   "id": "f49f8926",
   "metadata": {},
   "source": [
    "### Linear Regression"
   ]
  },
  {
   "cell_type": "code",
   "execution_count": 11,
   "id": "90518970",
   "metadata": {},
   "outputs": [],
   "source": [
    "from sklearn.linear_model import LinearRegression"
   ]
  },
  {
   "cell_type": "code",
   "execution_count": 12,
   "id": "d5f3f3a9",
   "metadata": {},
   "outputs": [
    {
     "name": "stdout",
     "output_type": "stream",
     "text": [
      "R squared value of training data: 0.9999072552723401\n"
     ]
    }
   ],
   "source": [
    "model = LinearRegression()\n",
    "model.fit(xtrain, ytrain)\n",
    "y_pred = model.predict(xtest)\n",
    "print(\"R squared value of training data:\",model.score(xtrain, ytrain))\n"
   ]
  },
  {
   "cell_type": "code",
   "execution_count": 13,
   "id": "44329847",
   "metadata": {},
   "outputs": [
    {
     "data": {
      "text/plain": [
       "0.01856094498517683"
      ]
     },
     "execution_count": 13,
     "metadata": {},
     "output_type": "execute_result"
    }
   ],
   "source": [
    "np.mean(np.abs(ytest - y_pred))"
   ]
  },
  {
   "cell_type": "markdown",
   "id": "c16ea215",
   "metadata": {},
   "source": [
    "The R sqaure of the training data is very large, meaning that the model overfits"
   ]
  },
  {
   "cell_type": "markdown",
   "id": "66c78248",
   "metadata": {},
   "source": [
    "### Training a currency exchange prediction model using the Decision Tree Regression model\n"
   ]
  },
  {
   "cell_type": "code",
   "execution_count": 15,
   "id": "47bd66fd",
   "metadata": {},
   "outputs": [
    {
     "data": {
      "text/plain": [
       "array([79.221603, 75.917297, 76.490097, 80.050697, 74.4132  , 74.429802,\n",
       "       74.378998, 77.497299, 78.955704, 79.453697, 74.623001, 79.878304,\n",
       "       75.458504, 77.372398, 76.323502, 79.707497, 75.174797, 76.121696,\n",
       "       79.477798, 77.365501, 78.134903, 76.914497, 76.463501, 77.598999,\n",
       "       75.408302, 81.480598, 76.3088  , 77.82    , 74.643898, 74.711998,\n",
       "       76.285202, 82.049599, 79.118301, 76.4673  , 76.794098, 82.2864  ,\n",
       "       76.2659  , 75.599197, 78.6045  , 79.368401, 81.615799, 76.307098,\n",
       "       74.191101, 74.255096, 77.443802, 78.939499, 76.527802, 75.039001,\n",
       "       79.0439  , 75.068001, 79.355301, 77.724297, 75.826897, 74.458603,\n",
       "       76.005997, 75.383301, 74.745003, 77.694199, 75.827797, 76.331398,\n",
       "       75.050903, 77.421097, 76.134903, 79.331398, 82.541298, 74.056999,\n",
       "       75.450699, 79.807503, 76.7537  , 79.895103, 79.883797, 75.685402,\n",
       "       77.961403, 74.980301, 79.410599, 77.985497, 75.391296, 82.761497,\n",
       "       77.478798, 74.928299, 79.8545  , 75.946404, 79.876801, 80.030296,\n",
       "       76.0242  , 75.758698, 74.644798, 78.8983  , 82.348999, 74.435097,\n",
       "       82.442497, 82.825699, 75.4086  , 77.977699, 74.478104, 76.445396,\n",
       "       76.047203, 77.360497, 79.682297, 77.418404, 74.779999, 76.957497,\n",
       "       76.472198, 81.495003, 79.601898, 74.642197, 79.613998, 75.209297,\n",
       "       74.431198, 79.073196, 77.820999, 75.315002, 76.276199, 77.584099,\n",
       "       75.017899, 79.1549  , 79.194801, 74.516998, 75.067398, 79.782997,\n",
       "       74.534897, 76.310303, 82.194702, 78.160599, 74.570297, 77.818398,\n",
       "       79.476402, 74.435501, 76.278503, 73.799103, 76.001602, 81.4655  ,\n",
       "       79.627602, 82.273903, 74.419296, 77.9002  , 74.682404, 76.167503,\n",
       "       79.602402, 74.174797, 78.441101, 79.649803, 75.994797, 77.080803,\n",
       "       74.633003, 81.724602, 81.648804, 75.891701, 74.4049  , 74.259804,\n",
       "       74.452202, 79.849098, 76.524101, 74.446999, 77.933998, 74.695198,\n",
       "       81.062202, 76.541801, 79.967903, 82.832298, 74.894997, 73.972298,\n",
       "       75.666702, 74.269997, 79.706299, 78.962997, 79.724503, 79.775902,\n",
       "       74.1744  , 79.146004, 81.521301, 79.716797, 78.142403, 74.449203,\n",
       "       79.548798, 74.430099, 75.630997, 75.054901, 74.619698, 79.097801,\n",
       "       78.177597, 82.445297, 79.855904, 79.722504, 76.588997, 75.686401,\n",
       "       77.670601, 81.254799, 82.412804, 74.829903, 73.8153  , 77.630203,\n",
       "       76.523102, 77.520897, 76.552399, 75.981598, 75.836998, 75.801201,\n",
       "       79.5784  , 75.538399, 79.882896, 79.9179  , 76.280197, 82.610001,\n",
       "       74.981598, 80.003403, 74.658302, 76.034103, 76.101898])"
      ]
     },
     "execution_count": 15,
     "metadata": {},
     "output_type": "execute_result"
    }
   ],
   "source": [
    "from sklearn.tree import DecisionTreeRegressor\n",
    "model = DecisionTreeRegressor()\n",
    "model.fit(xtrain, ytrain)\n",
    "ypred1 = model.predict(xtrain)\n",
    "ypred1"
   ]
  },
  {
   "cell_type": "code",
   "execution_count": 17,
   "id": "5fb37b33",
   "metadata": {},
   "outputs": [
    {
     "data": {
      "text/plain": [
       "array([82.194702, 79.967903, 79.548798, 78.142403, 74.619698, 77.360497,\n",
       "       78.962997, 82.2864  , 74.259804, 75.917297, 75.017899, 79.682297,\n",
       "       74.4132  , 79.548798, 79.8545  , 82.832298, 74.980301, 73.972298,\n",
       "       79.782997, 74.745003, 77.497299, 77.520897, 74.516998, 79.807503,\n",
       "       75.458504, 77.630203, 75.039001, 74.829903, 76.490097, 74.259804,\n",
       "       75.917297, 79.8545  , 79.649803, 75.917297, 76.167503, 79.724503,\n",
       "       74.829903, 81.521301, 79.355301, 74.4049  , 82.194702, 74.478104,\n",
       "       76.134903, 75.630997, 75.458504, 77.933998, 79.775902, 74.570297,\n",
       "       75.391296, 77.82    , 82.412804, 78.142403, 75.917297])"
      ]
     },
     "execution_count": 17,
     "metadata": {},
     "output_type": "execute_result"
    }
   ],
   "source": [
    "#Prediction\n",
    "ypred2 = model.predict(xtest)\n",
    "ypred2\n"
   ]
  },
  {
   "cell_type": "markdown",
   "id": "3169f469",
   "metadata": {},
   "source": [
    "### Model Performance Checks"
   ]
  },
  {
   "cell_type": "code",
   "execution_count": 18,
   "id": "52e3186c",
   "metadata": {},
   "outputs": [
    {
     "data": {
      "text/plain": [
       "2.7623387031432434"
      ]
     },
     "execution_count": 18,
     "metadata": {},
     "output_type": "execute_result"
    }
   ],
   "source": [
    "# Mean Absolute Error of training data\n",
    "\n",
    "np.mean(np.abs(ytrain - ypred1))\n",
    "\n"
   ]
  },
  {
   "cell_type": "code",
   "execution_count": 19,
   "id": "3825b618",
   "metadata": {},
   "outputs": [
    {
     "data": {
      "text/plain": [
       "3.5563787075347304"
      ]
     },
     "execution_count": 19,
     "metadata": {},
     "output_type": "execute_result"
    }
   ],
   "source": [
    "# MAPE \n",
    "\n",
    "np.mean(np.abs(ytrain - ypred1)/ytrain)*100\n"
   ]
  },
  {
   "cell_type": "code",
   "execution_count": 20,
   "id": "db32bb04",
   "metadata": {},
   "outputs": [
    {
     "data": {
      "text/plain": [
       "2.931643223567106"
      ]
     },
     "execution_count": 20,
     "metadata": {},
     "output_type": "execute_result"
    }
   ],
   "source": [
    "# Mean Absolute Error of test data\n",
    "\n",
    "np.mean(np.abs(ytest - ypred2))\n"
   ]
  },
  {
   "cell_type": "code",
   "execution_count": 21,
   "id": "f12eeb90",
   "metadata": {},
   "outputs": [
    {
     "data": {
      "text/plain": [
       "3.7723913153857604"
      ]
     },
     "execution_count": 21,
     "metadata": {},
     "output_type": "execute_result"
    }
   ],
   "source": [
    "# MAPE \n",
    "\n",
    "np.mean(np.abs(ytest - ypred2)/ytest)*100"
   ]
  },
  {
   "cell_type": "markdown",
   "id": "641c8959",
   "metadata": {},
   "source": [
    "The MAE of test data is more than the training data meaning that the model underfits the data"
   ]
  },
  {
   "cell_type": "code",
   "execution_count": null,
   "id": "897a2a18",
   "metadata": {},
   "outputs": [],
   "source": []
  }
 ],
 "metadata": {
  "kernelspec": {
   "display_name": "Python 3 (ipykernel)",
   "language": "python",
   "name": "python3"
  },
  "language_info": {
   "codemirror_mode": {
    "name": "ipython",
    "version": 3
   },
   "file_extension": ".py",
   "mimetype": "text/x-python",
   "name": "python",
   "nbconvert_exporter": "python",
   "pygments_lexer": "ipython3",
   "version": "3.9.12"
  }
 },
 "nbformat": 4,
 "nbformat_minor": 5
}
